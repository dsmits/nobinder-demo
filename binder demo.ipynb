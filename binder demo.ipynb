{
 "cells": [
  {
   "cell_type": "code",
   "execution_count": 2,
   "id": "7091fc75",
   "metadata": {},
   "outputs": [],
   "source": [
    "from mpl_toolkits.mplot3d import Axes3D\n",
    "import matplotlib.pyplot as plt\n",
    "import pandas as pd\n",
    "import seaborn as sns\n",
    "\n",
    "data_path = 'volcano.csv'\n",
    "\n",
    "data = pd.read_csv(data_path)\n"
   ]
  },
  {
   "cell_type": "code",
   "execution_count": 3,
   "id": "177a9671",
   "metadata": {},
   "outputs": [],
   "source": [
    "# Create a directory to store the images\n",
    "!mkdir Volcano"
   ]
  },
  {
   "cell_type": "code",
   "execution_count": 4,
   "id": "dfa7478e",
   "metadata": {},
   "outputs": [],
   "source": [
    "# Transform it to a long format\n",
    "df=data.unstack().reset_index()\n",
    "df.columns=[\"X\",\"Y\",\"Z\"]\n",
    "\n",
    "# And transform the old column name in something numeric\n",
    "df['X']=pd.Categorical(df['X'])\n",
    "df['X']=df['X'].cat.codes\n"
   ]
  },
  {
   "cell_type": "code",
   "execution_count": 5,
   "id": "969cc950",
   "metadata": {},
   "outputs": [
    {
     "name": "stderr",
     "output_type": "stream",
     "text": [
      "/home/dsmits/projects/teaching/nobinder-demo/env/lib/python3.7/site-packages/ipykernel_launcher.py:5: MatplotlibDeprecationWarning: Calling gca() with keyword arguments was deprecated in Matplotlib 3.4. Starting two minor releases later, gca() will take no keyword arguments. The gca() function should only be used to get the current axes, or if no axes exist, create new axes with default keyword arguments. To create a new axes with non-default arguments, use plt.axes() or plt.subplot().\n",
      "  \"\"\"\n"
     ]
    }
   ],
   "source": [
    "# We are going to do 20 plots, for 20 different angles\n",
    "for angle in range(0, 360,18):\n",
    "    # Make the plot\n",
    "    fig = plt.figure()\n",
    "    ax = fig.gca(projection='3d')\n",
    "    ax.plot_trisurf(df['Y'], df['X'], df['Z'], cmap=plt.cm.viridis, linewidth=0.2)\n",
    "\n",
    "    ax.view_init(30,angle)\n",
    "        \n",
    "    filename=f'Volcano/Volcano_step_{angle:03}.png'\n",
    "    plt.savefig(filename, dpi=96)\n",
    "    plt.gca()\n",
    "    plt.close(fig)\n"
   ]
  },
  {
   "cell_type": "code",
   "execution_count": 6,
   "id": "93108e2c",
   "metadata": {},
   "outputs": [],
   "source": [
    "!convert -delay 20 Volcano/Volcano*.png animated_volcano.gif"
   ]
  },
  {
   "cell_type": "code",
   "execution_count": null,
   "id": "13785838",
   "metadata": {},
   "outputs": [],
   "source": []
  }
 ],
 "metadata": {
  "kernelspec": {
   "display_name": "Python 3 (ipykernel)",
   "language": "python",
   "name": "python3"
  },
  "language_info": {
   "codemirror_mode": {
    "name": "ipython",
    "version": 3
   },
   "file_extension": ".py",
   "mimetype": "text/x-python",
   "name": "python",
   "nbconvert_exporter": "python",
   "pygments_lexer": "ipython3",
   "version": "3.7.6"
  }
 },
 "nbformat": 4,
 "nbformat_minor": 5
}
